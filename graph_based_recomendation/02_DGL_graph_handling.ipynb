{
 "cells": [
  {
   "cell_type": "markdown",
   "metadata": {},
   "source": [
    "# 그래프 데이터 로드하고 처리하기\n",
    "\n",
    "이 세션에서 다루는 내용\n",
    "\n",
    "* CSV 파일로 저장된 그래프 데이터를 로드하는 방법\n",
    "\n",
    "* DGL로 그래프를 구축하는 방법\n",
    "\n",
    "* DGL 그래프의 구조적인 정보에 대해 조회\n",
    "\n",
    "* 노드와 엣지 피처를 적재하고 전처리하는 방법\n",
    "\n",
    "* 메시지 패싱(message passing)에 피처 할당"
   ]
  },
  {
   "cell_type": "markdown",
   "metadata": {},
   "source": [
    "## CSV에서 그래프 데이터 호출하기"
   ]
  },
  {
   "cell_type": "markdown",
   "metadata": {},
   "source": [
    "CSV는 관계형 데이터 저장에 널리 사용되는 포맷입니다. 이 튜토리얼에서, Zachery의 Karate 클럽 네트워크 데이터를 포함한 2개의 csv 파일을 준비했습니다. \n",
    "[the Zachery's Karate Club network](https://en.wikipedia.org/wiki/Zachary%27s_karate_club)."
   ]
  },
  {
   "cell_type": "markdown",
   "metadata": {},
   "source": [
    "* `nodes.csv`는 클럽 멤버와 그들의 특징을 포함하고 있습니다.\n",
    "* `edges.csv`는 두 클럽 멤버간의 쌍별 상호작용을 포함하고 있습니다."
   ]
  },
  {
   "cell_type": "markdown",
   "metadata": {},
   "source": [
    "`pandas` 라이브러리를 사용해 csv 파일을 로드할 수 있습니다."
   ]
  },
  {
   "cell_type": "markdown",
   "metadata": {},
   "source": [
    "### conda install -c dglteam/label/cu121 dgl"
   ]
  },
  {
   "cell_type": "code",
   "execution_count": 1,
   "metadata": {},
   "outputs": [
    {
     "name": "stdout",
     "output_type": "stream",
     "text": [
      "    Id     Club  Age\n",
      "0    0   Mr. Hi   45\n",
      "1    1   Mr. Hi   33\n",
      "2    2   Mr. Hi   36\n",
      "3    3   Mr. Hi   31\n",
      "4    4   Mr. Hi   41\n",
      "5    5   Mr. Hi   42\n",
      "6    6   Mr. Hi   48\n",
      "7    7   Mr. Hi   41\n",
      "8    8   Mr. Hi   30\n",
      "9    9  Officer   35\n",
      "10  10   Mr. Hi   38\n",
      "11  11   Mr. Hi   44\n",
      "12  12   Mr. Hi   37\n",
      "13  13   Mr. Hi   39\n",
      "14  14  Officer   36\n",
      "15  15  Officer   38\n",
      "16  16   Mr. Hi   47\n",
      "17  17   Mr. Hi   45\n",
      "18  18  Officer   41\n",
      "19  19   Mr. Hi   31\n",
      "20  20  Officer   31\n",
      "21  21   Mr. Hi   44\n",
      "22  22  Officer   42\n",
      "23  23  Officer   32\n",
      "24  24  Officer   30\n",
      "25  25  Officer   50\n",
      "26  26  Officer   30\n",
      "27  27  Officer   43\n",
      "28  28  Officer   48\n",
      "29  29  Officer   40\n",
      "30  30  Officer   39\n",
      "31  31  Officer   45\n",
      "32  32  Officer   47\n",
      "33  33  Officer   33\n"
     ]
    }
   ],
   "source": [
    "import pandas as pd\n",
    "\n",
    "nodes_data = pd.read_csv('../data/graph_data/dgl_nodes.csv')\n",
    "print(nodes_data)"
   ]
  },
  {
   "cell_type": "code",
   "execution_count": 2,
   "metadata": {},
   "outputs": [
    {
     "name": "stdout",
     "output_type": "stream",
     "text": [
      "     Src  Dst    Weight\n",
      "0      0    1  0.318451\n",
      "1      0    2  0.551215\n",
      "2      0    3  0.227416\n",
      "3      0    4  0.266919\n",
      "4      0    5  0.475449\n",
      "..   ...  ...       ...\n",
      "151   33   28  0.266479\n",
      "152   33   29  0.279901\n",
      "153   33   30  0.652154\n",
      "154   33   31  0.828536\n",
      "155   33   32  0.842656\n",
      "\n",
      "[156 rows x 3 columns]\n"
     ]
    }
   ],
   "source": [
    "edges_data = pd.read_csv('../data/graph_data/dgl_edges.csv')\n",
    "print(edges_data)"
   ]
  },
  {
   "cell_type": "markdown",
   "metadata": {},
   "source": [
    "그 뒤 각 노드는 클럽 멤버를 나타내고 각 엣지는 그들의 상호작용을 나타내는 그래프를 만듭니다. DGL에서, 노드는 0부터 시작하는 연속적인 정수입니다.\n",
    "그러므로, 데이터를 준비할 때, 라벨을 다시 매기거나 행 순서를 다시 셔플하는 작업이 중요합니다. 이로써 첫번째 행이 첫번째 노드에 상응하도록하고, 그 뒤도 마찬가지로 매칭되도록 해줍니다."
   ]
  },
  {
   "cell_type": "code",
   "execution_count": 3,
   "metadata": {},
   "outputs": [],
   "source": [
    "import dgl\n",
    "\n",
    "src = edges_data['Src'].to_numpy()\n",
    "dst = edges_data['Dst'].to_numpy()"
   ]
  },
  {
   "cell_type": "code",
   "execution_count": 4,
   "metadata": {},
   "outputs": [
    {
     "data": {
      "text/plain": [
       "array([ 0,  0,  0,  0,  0,  0,  0,  0,  0,  0,  0,  0,  0,  0,  0,  0,  1,\n",
       "        1,  1,  1,  1,  1,  1,  1,  1,  2,  2,  2,  2,  2,  2,  2,  2,  2,\n",
       "        2,  3,  3,  3,  3,  3,  3,  4,  4,  4,  5,  5,  5,  5,  6,  6,  6,\n",
       "        6,  7,  7,  7,  7,  8,  8,  8,  8,  8,  9,  9, 10, 10, 10, 11, 12,\n",
       "       12, 13, 13, 13, 13, 13, 14, 14, 15, 15, 16, 16, 17, 17, 18, 18, 19,\n",
       "       19, 19, 20, 20, 21, 21, 22, 22, 23, 23, 23, 23, 23, 24, 24, 24, 25,\n",
       "       25, 25, 26, 26, 27, 27, 27, 27, 28, 28, 28, 29, 29, 29, 29, 30, 30,\n",
       "       30, 30, 31, 31, 31, 31, 31, 31, 32, 32, 32, 32, 32, 32, 32, 32, 32,\n",
       "       32, 32, 32, 33, 33, 33, 33, 33, 33, 33, 33, 33, 33, 33, 33, 33, 33,\n",
       "       33, 33, 33], dtype=int64)"
      ]
     },
     "execution_count": 4,
     "metadata": {},
     "output_type": "execute_result"
    }
   ],
   "source": [
    "src"
   ]
  },
  {
   "cell_type": "code",
   "execution_count": 5,
   "metadata": {},
   "outputs": [
    {
     "data": {
      "text/plain": [
       "array([ 1,  2,  3,  4,  5,  6,  7,  8, 10, 11, 12, 13, 17, 19, 21, 31,  0,\n",
       "        2,  3,  7, 13, 17, 19, 21, 30,  0,  1,  3,  7,  8,  9, 13, 27, 28,\n",
       "       32,  0,  1,  2,  7, 12, 13,  0,  6, 10,  0,  6, 10, 16,  0,  4,  5,\n",
       "       16,  0,  1,  2,  3,  0,  2, 30, 32, 33,  2, 33,  0,  4,  5,  0,  0,\n",
       "        3,  0,  1,  2,  3, 33, 32, 33, 32, 33,  5,  6,  0,  1, 32, 33,  0,\n",
       "        1, 33, 32, 33,  0,  1, 32, 33, 25, 27, 29, 32, 33, 25, 27, 31, 23,\n",
       "       24, 31, 29, 33,  2, 23, 24, 33,  2, 31, 33, 23, 26, 32, 33,  1,  8,\n",
       "       32, 33,  0, 24, 25, 28, 32, 33,  2,  8, 14, 15, 18, 20, 22, 23, 29,\n",
       "       30, 31, 33,  8,  9, 13, 14, 15, 18, 19, 20, 22, 23, 26, 27, 28, 29,\n",
       "       30, 31, 32], dtype=int64)"
      ]
     },
     "execution_count": 5,
     "metadata": {},
     "output_type": "execute_result"
    }
   ],
   "source": [
    "dst"
   ]
  },
  {
   "cell_type": "code",
   "execution_count": 6,
   "metadata": {},
   "outputs": [],
   "source": [
    "# 한쌍의 넘파이 배열로부터 DGL 그래프를 생성\n",
    "g = dgl.graph((src, dst))"
   ]
  },
  {
   "cell_type": "code",
   "execution_count": 7,
   "metadata": {},
   "outputs": [
    {
     "name": "stdout",
     "output_type": "stream",
     "text": [
      "Graph(num_nodes=34, num_edges=156,\n",
      "      ndata_schemes={}\n",
      "      edata_schemes={})\n"
     ]
    }
   ],
   "source": [
    "# 그래프를 출력하면, 노드와 엣지 숫자 등의 메타 정보를 보여줍니다.\n",
    "print(g)"
   ]
  },
  {
   "cell_type": "markdown",
   "metadata": {},
   "source": [
    "DGL 그래프는 시각화와 같은 풍부한 기능을 사용할 수 있도록 `networkx` 그래프로 변환시킬 수 있습니다."
   ]
  },
  {
   "cell_type": "code",
   "execution_count": 8,
   "metadata": {},
   "outputs": [
    {
     "data": {
      "image/png": "[encoded data removed]",
      "text/plain": [
       "<Figure size 640x480 with 1 Axes>"
      ]
     },
     "metadata": {},
     "output_type": "display_data"
    }
   ],
   "source": [
    "import networkx as nx\n",
    "# 그래프가 무방향성이므로, 시각화 목적을 위해 변형했습니다.\n",
    "\n",
    "nx_g = g.to_networkx().to_undirected()\n",
    "# kamada-kawaii 레이아웃은 임의의 그래프에 대해 보기 좋은 형태를 제공합니다\n",
    "\n",
    "pos = nx.kamada_kawai_layout(nx_g)\n",
    "nx.draw(nx_g, pos, with_labels=True, node_color=[[.7, .7, .7]])"
   ]
  },
  {
   "cell_type": "markdown",
   "metadata": {},
   "source": [
    "## 그래프 구조에 대해 쿼리 날리기"
   ]
  },
  {
   "cell_type": "markdown",
   "metadata": {},
   "source": [
    "얼마나 많은 노드와 엣지가 그래프 내에 있는지 확인해 봅시다."
   ]
  },
  {
   "cell_type": "code",
   "execution_count": 9,
   "metadata": {},
   "outputs": [
    {
     "name": "stdout",
     "output_type": "stream",
     "text": [
      "#Nodes 34\n",
      "#Edges 156\n"
     ]
    }
   ],
   "source": [
    "print('#Nodes', g.number_of_nodes())\n",
    "print('#Edges', g.number_of_edges())"
   ]
  },
  {
   "cell_type": "markdown",
   "metadata": {},
   "source": [
    "그래프 구조에 대한 쿼리도 수행해 볼 수 있습니다."
   ]
  },
  {
   "cell_type": "markdown",
   "metadata": {},
   "source": [
    "노드 0의 in-degree(유입 차수)는 얼마일까요?"
   ]
  },
  {
   "cell_type": "code",
   "execution_count": 10,
   "metadata": {},
   "outputs": [
    {
     "data": {
      "text/plain": [
       "16"
      ]
     },
     "execution_count": 10,
     "metadata": {},
     "output_type": "execute_result"
    }
   ],
   "source": [
    "g.in_degrees(0)"
   ]
  },
  {
   "cell_type": "markdown",
   "metadata": {},
   "source": [
    "노드 0의 successors(연결된 노드들)는 어떤 노드들일까요?"
   ]
  },
  {
   "cell_type": "code",
   "execution_count": 11,
   "metadata": {},
   "outputs": [
    {
     "data": {
      "text/plain": [
       "tensor([ 1,  2,  3,  4,  5,  6,  7,  8, 10, 11, 12, 13, 17, 19, 21, 31])"
      ]
     },
     "execution_count": 11,
     "metadata": {},
     "output_type": "execute_result"
    }
   ],
   "source": [
    "g.successors(0)"
   ]
  },
  {
   "cell_type": "markdown",
   "metadata": {},
   "source": [
    "## Load node and edge features"
   ]
  },
  {
   "cell_type": "markdown",
   "metadata": {},
   "source": [
    "많은 그래프 데이터에서, 노드와 엣지는 특성(attributes)을 가지고 있습니다. \n",
    "이 특성들이 임의의 타입을 가질지라도, DGL 그래프는 텐서의 형태로 저장된 특성만을 받아들입니다(수치적 정보를 포함한 텐서). \n",
    "딥러닝에서의 비약적인 발달은 다양한 타입의 특성을 수치형 피처로 만들어 벡터화할 많은 방법을 제시했습니다.   \n",
    "\n",
    "아래는 몇가지 일반적인 제안입니다: \n",
    "\n",
    "* 범주형 특성에 대해서는 (예를 들어 성별, 직업 등), 정수 혹은 one-hot encoding으로 바꾸는 것을 고려할 것  \n",
    "* 문자열 컨텐츠(가령 뉴스 기사, 인용문 등)의 경우 언어 모델을 적용\n",
    "* 이미지에 대해서는, CNN과 같은 비전 모델을 적용 \n",
    "\n",
    "우리의 데이터 셋에는 다음 특성이 포함되어 있습니다:\n",
    "\n",
    "* `Age` 는 이미 정수형 특성입니다.\n",
    "* `Club` 은 범주형 특성으로 각 멤버가 어떤 커뮤니티에 속해있는지를 나타냅니다.\n",
    "* `Weight` 는 부동 소수점 수치형 데이터로 각 관계의 강도를 나타냅니다."
   ]
  },
  {
   "cell_type": "code",
   "execution_count": 12,
   "metadata": {},
   "outputs": [
    {
     "name": "stdout",
     "output_type": "stream",
     "text": [
      "tensor([0.4500, 0.3300, 0.3600, 0.3100, 0.4100, 0.4200, 0.4800, 0.4100, 0.3000,\n",
      "        0.3500, 0.3800, 0.4400, 0.3700, 0.3900, 0.3600, 0.3800, 0.4700, 0.4500,\n",
      "        0.4100, 0.3100, 0.3100, 0.4400, 0.4200, 0.3200, 0.3000, 0.5000, 0.3000,\n",
      "        0.4300, 0.4800, 0.4000, 0.3900, 0.4500, 0.4700, 0.3300])\n"
     ]
    }
   ],
   "source": [
    "import torch\n",
    "import torch.nn.functional as F\n",
    "\n",
    "# '나이' 노드 피처를 준비합니다\n",
    "age = torch.tensor(nodes_data['Age'].to_numpy()).float() / 100\n",
    "print(age)"
   ]
  },
  {
   "cell_type": "markdown",
   "metadata": {},
   "source": [
    "`g.ndata`를 사용해 그래프의 age feature를 설정"
   ]
  },
  {
   "cell_type": "code",
   "execution_count": 14,
   "metadata": {},
   "outputs": [
    {
     "name": "stdout",
     "output_type": "stream",
     "text": [
      "Graph(num_nodes=34, num_edges=156,\n",
      "      ndata_schemes={'age': Scheme(shape=(), dtype=torch.float32)}\n",
      "      edata_schemes={})\n"
     ]
    }
   ],
   "source": [
    "# 피처를 그래프에 입력함\n",
    "g.ndata['age'] = age\n",
    "print(g)"
   ]
  },
  {
   "cell_type": "code",
   "execution_count": 15,
   "metadata": {},
   "outputs": [],
   "source": [
    "# \"Club\" 칼럼은 각 노드가 어떤 커뮤니티에 포함되어 있는지를 나타냅니다\n",
    "# 입력 값은 스트링 타입으로, 범주형 정수 값 혹은 원핫 인코딩 값으로 바꾸어 주어야 합니다\n",
    "\n",
    "club = nodes_data['Club'].to_list()"
   ]
  },
  {
   "cell_type": "code",
   "execution_count": 16,
   "metadata": {},
   "outputs": [],
   "source": [
    "# 범주형 정수 값으로 바꿔줍니다. 'Mr. Hi'는 0으로, 'Officer'는 1로.\n",
    "\n",
    "club = torch.tensor([c == 'Officer' for c in club]).long()"
   ]
  },
  {
   "cell_type": "code",
   "execution_count": 17,
   "metadata": {},
   "outputs": [
    {
     "name": "stdout",
     "output_type": "stream",
     "text": [
      "tensor([[1, 0],\n",
      "        [1, 0],\n",
      "        [1, 0],\n",
      "        [1, 0],\n",
      "        [1, 0],\n",
      "        [1, 0],\n",
      "        [1, 0],\n",
      "        [1, 0],\n",
      "        [1, 0],\n",
      "        [0, 1],\n",
      "        [1, 0],\n",
      "        [1, 0],\n",
      "        [1, 0],\n",
      "        [1, 0],\n",
      "        [0, 1],\n",
      "        [0, 1],\n",
      "        [1, 0],\n",
      "        [1, 0],\n",
      "        [0, 1],\n",
      "        [1, 0],\n",
      "        [0, 1],\n",
      "        [1, 0],\n",
      "        [0, 1],\n",
      "        [0, 1],\n",
      "        [0, 1],\n",
      "        [0, 1],\n",
      "        [0, 1],\n",
      "        [0, 1],\n",
      "        [0, 1],\n",
      "        [0, 1],\n",
      "        [0, 1],\n",
      "        [0, 1],\n",
      "        [0, 1],\n",
      "        [0, 1]])\n"
     ]
    }
   ],
   "source": [
    "# 원핫 인코딩으로 변환할수도 있습니다.\n",
    "club_onehot = F.one_hot(club)\n",
    "print(club_onehot)"
   ]
  },
  {
   "cell_type": "code",
   "execution_count": 18,
   "metadata": {},
   "outputs": [
    {
     "name": "stdout",
     "output_type": "stream",
     "text": [
      "Graph(num_nodes=34, num_edges=156,\n",
      "      ndata_schemes={'club': Scheme(shape=(), dtype=torch.int64), 'club_onehot': Scheme(shape=(2,), dtype=torch.int64)}\n",
      "      edata_schemes={})\n"
     ]
    }
   ],
   "source": [
    "# `g.ndata`는 일반적인 딕셔너리처럼 사용하세요\n",
    "g.ndata.update({'club': club, 'club_onehot': club_onehot})\n",
    "\n",
    "# del을 사용해 몇몇 피처를 제거할 수 있습니다\n",
    "del g.ndata['age']\n",
    "\n",
    "print(g)"
   ]
  },
  {
   "cell_type": "markdown",
   "metadata": {},
   "source": [
    "엣지 피처를 DGL 그래프에 입력해 주는 것도 비슷합니다."
   ]
  },
  {
   "cell_type": "code",
   "execution_count": 19,
   "metadata": {},
   "outputs": [
    {
     "name": "stdout",
     "output_type": "stream",
     "text": [
      "Graph(num_nodes=34, num_edges=156,\n",
      "      ndata_schemes={'club': Scheme(shape=(), dtype=torch.int64), 'club_onehot': Scheme(shape=(2,), dtype=torch.int64)}\n",
      "      edata_schemes={'weight': Scheme(shape=(), dtype=torch.float64)})\n"
     ]
    }
   ],
   "source": [
    "# 데이터프레임에서 엣지 피처를 가져와 그래프에 입력해 줍니다.\n",
    "edge_weight = torch.tensor(edges_data['Weight'].to_numpy())\n",
    "\n",
    "# 앞에서 노드의 경우와 비슷하게, `g.edata`를 사용해 엣지 피처를 가져오고/입력해줄 수 있습니다.\n",
    "g.edata['weight'] = edge_weight\n",
    "print(g)"
   ]
  },
  {
   "cell_type": "code",
   "execution_count": 20,
   "metadata": {},
   "outputs": [
    {
     "name": "stdout",
     "output_type": "stream",
     "text": [
      "Graph(num_nodes=34, num_edges=156,\n",
      "      ndata_schemes={'club': Scheme(shape=(), dtype=torch.int64), 'club_onehot': Scheme(shape=(2,), dtype=torch.int64), 'src_h': Scheme(shape=(4,), dtype=torch.float32), 'dst_h': Scheme(shape=(7,), dtype=torch.float32)}\n",
      "      edata_schemes={'weight': Scheme(shape=(), dtype=torch.float64)})\n"
     ]
    }
   ],
   "source": [
    "# 무작위의 4d 피처를 srcdata에 할당하고, dstdata에는 7d 피처를 할당해 줍니다\n",
    "g.srcdata['src_h'] = torch.randn(34, 4)\n",
    "g.dstdata['dst_h'] = torch.randn(34, 7)\n",
    "\n",
    "print(g)"
   ]
  },
  {
   "cell_type": "markdown",
   "metadata": {},
   "source": [
    "그래프 `g`에서는, 두 노드 피처가 ndata_schema에 저장되어 있습니다. 이 두 피처에 대해 `ndata`를 사용해 직접적으로 쿼리를 날릴 수 있습니다."
   ]
  },
  {
   "cell_type": "code",
   "execution_count": 21,
   "metadata": {},
   "outputs": [
    {
     "name": "stdout",
     "output_type": "stream",
     "text": [
      "tensor([[-0.4417,  0.2006, -0.6387,  0.1389],\n",
      "        [ 0.3599,  0.0783, -1.6148,  0.4291],\n",
      "        [ 0.3342,  1.7496, -1.6133, -0.5787],\n",
      "        [-1.2587,  0.0160, -0.7832,  0.4479],\n",
      "        [-0.0840,  1.4956, -0.6948, -1.4105],\n",
      "        [-1.0877, -0.2968,  1.5859, -1.9101],\n",
      "        [-0.3328,  2.0883, -0.1205,  1.4422],\n",
      "        [-0.1509,  1.1321, -0.1369,  2.0703],\n",
      "        [-1.7068, -0.0241, -0.7481,  0.9303],\n",
      "        [ 1.5292, -0.1800, -0.3064, -0.4385],\n",
      "        [-0.4471,  1.8859,  0.1695, -1.4471],\n",
      "        [ 0.7408,  0.5089,  1.6774, -0.4064],\n",
      "        [-0.1061, -0.5956,  1.6077,  0.5037],\n",
      "        [ 2.7045, -0.2107, -0.0284, -0.1233],\n",
      "        [-0.3789,  0.4376,  0.0859,  0.1140],\n",
      "        [ 0.0863,  0.5674,  1.3313, -1.0581],\n",
      "        [ 0.0810,  0.3092,  0.2265, -0.4330],\n",
      "        [-0.1848, -0.8160,  0.3310, -0.9283],\n",
      "        [ 0.6521, -0.6357, -0.5406, -1.2956],\n",
      "        [-0.8995,  0.0540,  0.6421, -2.0987],\n",
      "        [ 0.7219, -0.3961,  0.2811,  0.4328],\n",
      "        [-0.7718, -0.0269, -1.3719, -1.4685],\n",
      "        [ 0.5718,  0.2371, -0.3104, -0.7035],\n",
      "        [-0.3456, -1.6318, -1.3515, -0.0058],\n",
      "        [-1.1232, -0.4957,  1.9268,  0.1819],\n",
      "        [-0.2106, -0.9549,  0.8547,  0.4847],\n",
      "        [-0.2730, -0.9873,  1.1596,  0.0302],\n",
      "        [-0.6401,  1.2457,  1.3362,  1.1728],\n",
      "        [-2.1109,  0.9101,  0.0938, -0.6054],\n",
      "        [-0.4371, -0.8402,  2.1003, -0.1294],\n",
      "        [ 0.2392,  1.2791,  0.4658, -0.1261],\n",
      "        [-0.8784,  0.4634, -1.1696, -0.5779],\n",
      "        [ 0.5068,  0.3820, -0.5579,  1.3984],\n",
      "        [ 0.8493, -0.0120,  0.6099,  1.1208]])\n"
     ]
    }
   ],
   "source": [
    "print(g.ndata['src_h'])"
   ]
  },
  {
   "cell_type": "code",
   "execution_count": 22,
   "metadata": {},
   "outputs": [
    {
     "name": "stdout",
     "output_type": "stream",
     "text": [
      "Graph(num_nodes={'disease': 3, 'drug': 3, 'gene': 4},\n",
      "      num_edges={('drug', 'interacts', 'drug'): 2, ('drug', 'interacts', 'gene'): 2, ('drug', 'treats', 'disease'): 1},\n",
      "      metagraph=[('drug', 'drug', 'interacts'), ('drug', 'gene', 'interacts'), ('drug', 'disease', 'treats')])\n"
     ]
    }
   ],
   "source": [
    "# 3개의 노드 타입과 3개의 엣지 타입을 가진 이질적 그래프를 생성합니다\n",
    "# key 값의 3개 값 중 가운데는 \"관계\"를 나타내고, 양쪽은 source/destination node를 각각 나타냅니다.\n",
    "# value 값의 부분에 있는 2 덩이의 torch.tensor는 각각 source/destination 노드의 피처를 의미합니다.\n",
    "\n",
    "heterograph_data = {\n",
    "    ('drug', 'interacts', 'drug'): (torch.tensor([0, 1]), torch.tensor([1, 2])),\n",
    "    ('drug', 'interacts', 'gene'): (torch.tensor([0, 1]), torch.tensor([2, 3])),\n",
    "    ('drug', 'treats', 'disease'): (torch.tensor([1]), torch.tensor([2]))\n",
    "}\n",
    "hetero_g = dgl.heterograph(heterograph_data)\n",
    "print(hetero_g)"
   ]
  },
  {
   "cell_type": "code",
   "execution_count": 24,
   "metadata": {},
   "outputs": [
    {
     "name": "stdout",
     "output_type": "stream",
     "text": [
      "Graph(num_nodes={'drug': 3, 'gene': 4},\n",
      "      num_edges={('drug', 'interacts', 'gene'): 2},\n",
      "      metagraph=[('drug', 'gene', 'interacts')])\n"
     ]
    }
   ],
   "source": [
    "# 한 관계 'durg->interacts->gene'를 추출해 sub graph를 만듭니다.\n",
    "sub_g = dgl.edge_type_subgraph(hetero_g, [('drug', 'interacts', 'gene')])\n",
    "print(sub_g)"
   ]
  },
  {
   "cell_type": "code",
   "execution_count": 25,
   "metadata": {},
   "outputs": [
    {
     "name": "stdout",
     "output_type": "stream",
     "text": [
      "Graph(num_nodes={'drug': 3, 'gene': 4},\n",
      "      num_edges={('drug', 'interacts', 'gene'): 2},\n",
      "      metagraph=[('drug', 'gene', 'interacts')])\n"
     ]
    }
   ],
   "source": [
    "# 소스와 목적지 노드에 피처를 할당합니다. drug 노드와 gene 노드의 수가 다르다는 점에 주목해 주세요.\n",
    "\n",
    "sub_g.srcdata['src_h'] = torch.randn(3, 3)\n",
    "sub_g.dstdata['dst_h'] = torch.randn(4, 2)\n",
    "print(sub_g)"
   ]
  },
  {
   "cell_type": "code",
   "execution_count": 26,
   "metadata": {},
   "outputs": [
    {
     "data": {
      "text/plain": [
       "{'src_h': tensor([[ 1.5594, -0.5755,  0.3408],\n",
       "        [ 0.5391, -1.1112, -0.3601],\n",
       "        [ 0.8571, -0.0677, -1.4900]])}"
      ]
     },
     "execution_count": 26,
     "metadata": {},
     "output_type": "execute_result"
    }
   ],
   "source": [
    "sub_g.srcdata"
   ]
  },
  {
   "cell_type": "code",
   "execution_count": 27,
   "metadata": {},
   "outputs": [
    {
     "data": {
      "text/plain": [
       "{'dst_h': tensor([[-0.4152,  0.9625],\n",
       "        [ 1.5852,  1.2232],\n",
       "        [ 0.7512,  0.2563],\n",
       "        [ 1.9780, -0.3186]])}"
      ]
     },
     "execution_count": 27,
     "metadata": {},
     "output_type": "execute_result"
    }
   ],
   "source": [
    "sub_g.dstdata"
   ]
  },
  {
   "cell_type": "code",
   "execution_count": null,
   "metadata": {},
   "outputs": [],
   "source": []
  }
 ],
 "metadata": {
  "kernelspec": {
   "display_name": "base",
   "language": "python",
   "name": "python3"
  },
  "language_info": {
   "codemirror_mode": {
    "name": "ipython",
    "version": 3
   },
   "file_extension": ".py",
   "mimetype": "text/x-python",
   "name": "python",
   "nbconvert_exporter": "python",
   "pygments_lexer": "ipython3",
   "version": "3.11.7"
  }
 },
 "nbformat": 4,
 "nbformat_minor": 2
}
