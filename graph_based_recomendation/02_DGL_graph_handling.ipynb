{
 "cells": [
  {
   "cell_type": "markdown",
   "metadata": {},
   "source": [
    "# 그래프 데이터 로드하고 처리하기\n",
    "\n",
    "이 세션에서 다루는 내용\n",
    "\n",
    "* CSV 파일로 저장된 그래프 데이터를 로드하는 방법\n",
    "\n",
    "* DGL로 그래프를 구축하는 방법\n",
    "\n",
    "* DGL 그래프의 구조적인 정보에 대해 조회\n",
    "\n",
    "* 노드와 엣지 피처를 적재하고 전처리하는 방법\n",
    "\n",
    "* 메시지 패싱(message passing)에 피처 할당"
   ]
  },
  {
   "cell_type": "markdown",
   "metadata": {},
   "source": [
    "## CSV에서 그래프 데이터 호출하기"
   ]
  },
  {
   "cell_type": "markdown",
   "metadata": {},
   "source": [
    "CSV는 관계형 데이터 저장에 널리 사용되는 포맷입니다. 이 튜토리얼에서, Zachery의 Karate 클럽 네트워크 데이터를 포함한 2개의 csv 파일을 준비했습니다. \n",
    "[the Zachery's Karate Club network](https://en.wikipedia.org/wiki/Zachary%27s_karate_club)."
   ]
  },
  {
   "cell_type": "markdown",
   "metadata": {},
   "source": [
    "* `nodes.csv`는 클럽 멤버와 그들의 특징을 포함하고 있습니다.\n",
    "* `edges.csv`는 두 클럽 멤버간의 쌍별 상호작용을 포함하고 있습니다."
   ]
  },
  {
   "cell_type": "markdown",
   "metadata": {},
   "source": [
    "`pandas` 라이브러리를 사용해 csv 파일을 로드할 수 있습니다."
   ]
  },
  {
   "cell_type": "markdown",
   "metadata": {},
   "source": [
    "### conda install -c dglteam/label/cu121 dgl"
   ]
  },
  {
   "cell_type": "code",
   "execution_count": 5,
   "metadata": {},
   "outputs": [
    {
     "name": "stdout",
     "output_type": "stream",
     "text": [
      "    Id     Club  Age\n",
      "0    0   Mr. Hi   45\n",
      "1    1   Mr. Hi   33\n",
      "2    2   Mr. Hi   36\n",
      "3    3   Mr. Hi   31\n",
      "4    4   Mr. Hi   41\n",
      "5    5   Mr. Hi   42\n",
      "6    6   Mr. Hi   48\n",
      "7    7   Mr. Hi   41\n",
      "8    8   Mr. Hi   30\n",
      "9    9  Officer   35\n",
      "10  10   Mr. Hi   38\n",
      "11  11   Mr. Hi   44\n",
      "12  12   Mr. Hi   37\n",
      "13  13   Mr. Hi   39\n",
      "14  14  Officer   36\n",
      "15  15  Officer   38\n",
      "16  16   Mr. Hi   47\n",
      "17  17   Mr. Hi   45\n",
      "18  18  Officer   41\n",
      "19  19   Mr. Hi   31\n",
      "20  20  Officer   31\n",
      "21  21   Mr. Hi   44\n",
      "22  22  Officer   42\n",
      "23  23  Officer   32\n",
      "24  24  Officer   30\n",
      "25  25  Officer   50\n",
      "26  26  Officer   30\n",
      "27  27  Officer   43\n",
      "28  28  Officer   48\n",
      "29  29  Officer   40\n",
      "30  30  Officer   39\n",
      "31  31  Officer   45\n",
      "32  32  Officer   47\n",
      "33  33  Officer   33\n"
     ]
    }
   ],
   "source": [
    "import pandas as pd\n",
    "\n",
    "nodes_data = pd.read_csv('../data/graph_data/dgl_nodes.csv')\n",
    "print(nodes_data)"
   ]
  },
  {
   "cell_type": "code",
   "execution_count": 6,
   "metadata": {},
   "outputs": [
    {
     "name": "stdout",
     "output_type": "stream",
     "text": [
      "     Src  Dst    Weight\n",
      "0      0    1  0.318451\n",
      "1      0    2  0.551215\n",
      "2      0    3  0.227416\n",
      "3      0    4  0.266919\n",
      "4      0    5  0.475449\n",
      "..   ...  ...       ...\n",
      "151   33   28  0.266479\n",
      "152   33   29  0.279901\n",
      "153   33   30  0.652154\n",
      "154   33   31  0.828536\n",
      "155   33   32  0.842656\n",
      "\n",
      "[156 rows x 3 columns]\n"
     ]
    }
   ],
   "source": [
    "edges_data = pd.read_csv('../data/graph_data/dgl_edges.csv')\n",
    "print(edges_data)"
   ]
  },
  {
   "cell_type": "code",
   "execution_count": 7,
   "metadata": {},
   "outputs": [],
   "source": [
    "import dgl\n",
    "\n",
    "src = edges_data['Src'].to_numpy()\n",
    "dst = edges_data['Dst'].to_numpy()"
   ]
  },
  {
   "cell_type": "code",
   "execution_count": null,
   "metadata": {},
   "outputs": [],
   "source": []
  }
 ],
 "metadata": {
  "kernelspec": {
   "display_name": "base",
   "language": "python",
   "name": "python3"
  },
  "language_info": {
   "codemirror_mode": {
    "name": "ipython",
    "version": 3
   },
   "file_extension": ".py",
   "mimetype": "text/x-python",
   "name": "python",
   "nbconvert_exporter": "python",
   "pygments_lexer": "ipython3",
   "version": "3.11.7"
  }
 },
 "nbformat": 4,
 "nbformat_minor": 2
}
